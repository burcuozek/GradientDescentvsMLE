{
 "cells": [
  {
   "cell_type": "code",
   "execution_count": 108,
   "metadata": {},
   "outputs": [
    {
     "name": "stdout",
     "output_type": "stream",
     "text": [
      "354\n",
      "152\n"
     ]
    }
   ],
   "source": [
    "import numpy as np\n",
    "import pandas as pd\n",
    "from sklearn import datasets, linear_model\n",
    "from sklearn.model_selection import train_test_split\n",
    "from numpy.linalg import inv\n",
    "import matplotlib.pyplot as plt\n",
    "from matplotlib import pyplot\n",
    "import random\n",
    "\n",
    "# Read File\n",
    "data_set =pd.read_csv('housing.csv', sep=',')\n",
    "\n",
    "# Split data set into training and test set\n",
    "data_set_train, data_set_test = train_test_split(data_set, test_size=0.3)\n",
    "\n",
    "# Validate\n",
    "print(len(data_set_train))\n",
    "print(len(data_set_test))\n",
    "\n",
    "# Set seed (not necessary)\n",
    "random.seed(1234)\n"
   ]
  },
  {
   "cell_type": "code",
   "execution_count": 109,
   "metadata": {},
   "outputs": [],
   "source": [
    "# Function to split into x and y \n",
    "\n",
    "def split_x_y(data_set):\n",
    "    data_set_x = data_set.iloc[:, :(len(data_set.columns)-1)]\n",
    "    data_set_y = data_set.iloc[:, len(data_set.columns)-1:]\n",
    "    return data_set_x, data_set_y\n"
   ]
  },
  {
   "cell_type": "code",
   "execution_count": 110,
   "metadata": {},
   "outputs": [],
   "source": [
    "# Function to normalizr using Z-score\n",
    "\n",
    "def z_score_norm(data_set_train_x,data_set_test_x):\n",
    "\n",
    "    data_set_train_norm_x = data_set_train_x.copy()\n",
    "    data_set_test_norm_x = data_set_test_x.copy()\n",
    "\n",
    "    for column in data_set_train_norm_x.columns:\n",
    "        data_set_train_norm_x[column] = (data_set_train_x[column] - data_set_train_x[column].mean()) / data_set_train_x[column].std()\n",
    "        data_set_test_norm_x[column] = (data_set_test_x[column] - data_set_train_x[column].mean()) / data_set_train_x[column].std()\n",
    "\n",
    "    return data_set_train_norm_x,data_set_test_norm_x\n",
    "  \n"
   ]
  },
  {
   "cell_type": "code",
   "execution_count": 111,
   "metadata": {},
   "outputs": [],
   "source": [
    "# Add intercept to the matrix for the matrix multiplications\n",
    "def add_intercept(data_set_train_norm_x,data_set_test_norm_x):\n",
    "    data_set_train_norm_x.insert(0,'intercept',1)\n",
    "    data_set_test_norm_x.insert(0,'intercept',1)\n",
    "    return data_set_train_norm_x,data_set_test_norm_x"
   ]
  },
  {
   "cell_type": "code",
   "execution_count": 112,
   "metadata": {},
   "outputs": [],
   "source": [
    "# Risk function (MSE)\n",
    "def risk_function(data_set_train_norm_x, data_set_train_y,w):\n",
    "    Y_pred = data_set_train_norm_x.dot(w)\n",
    "    err_sub = np.subtract(Y_pred, data_set_train_y)\n",
    "    risk = np.sqrt(err_sub.T.dot(err_sub)/data_set_train_norm_x.shape[0]).values\n",
    "    return err_sub,risk\n"
   ]
  },
  {
   "cell_type": "code",
   "execution_count": 113,
   "metadata": {},
   "outputs": [],
   "source": [
    "def gradient_descent(data_set_train_norm_x,data_set_train_y,learning_rate_ , max_iter_, tolerance_):\n",
    "\n",
    "    col_num = len(data_set_train_norm_x.columns)\n",
    "    w = np.zeros((col_num,1))\n",
    "    learning_rate = learning_rate_\n",
    "    max_iter = max_iter_\n",
    "    difference = 1\n",
    "    tolerance = tolerance_\n",
    "    iteration = 0\n",
    "\n",
    "    # Loop for gradient\n",
    "    while  float(difference) > tolerance and  iteration < max_iter:\n",
    "\n",
    "        # calculate risk for w\n",
    "        err_sub,risk_old = risk_function(data_set_train_norm_x, data_set_train_y,w)\n",
    "        gradient=(2/len(data_set_train_norm_x))* data_set_train_norm_x.T.dot(err_sub)\n",
    "        # update w\n",
    "        w = w - learning_rate * gradient\n",
    "        # calculate risk for updated w\n",
    "        err_sub_new,risk_new = risk_function(data_set_train_norm_x, data_set_train_y,w)\n",
    "        # take the difference of updated and old risk to continue while loop\n",
    "        difference = np.abs(np.subtract(risk_new,risk_old))\n",
    "        iteration = iteration+1\n",
    "    \n",
    "    return w"
   ]
  },
  {
   "cell_type": "code",
   "execution_count": 114,
   "metadata": {},
   "outputs": [
    {
     "name": "stdout",
     "output_type": "stream",
     "text": [
      "354\n",
      "152\n"
     ]
    }
   ],
   "source": [
    "# Data Wrangling\n",
    "\n",
    "# Split training and test data set into x and y\n",
    "\n",
    "data_set_train_x, data_set_train_y = split_x_y(data_set_train)\n",
    "data_set_test_x, data_set_test_y = split_x_y(data_set_test)\n",
    "\n",
    "# Normalize data set using Z-score\n",
    "data_set_train_norm_x,data_set_test_norm_x = z_score_norm(data_set_train_x,data_set_test_x)\n",
    "\n",
    "# Add intercept to the matrix\n",
    "data_set_train_norm_x,data_set_test_norm_x = add_intercept(data_set_train_norm_x,data_set_test_norm_x)\n",
    "\n",
    "# Validate\n",
    "print(len(data_set_train_norm_x))\n",
    "print(len(data_set_test_norm_x))\n",
    "#print(data_set_train_norm_x)\n",
    "#print(data_set_test_norm_x)"
   ]
  },
  {
   "cell_type": "code",
   "execution_count": 115,
   "metadata": {},
   "outputs": [
    {
     "name": "stdout",
     "output_type": "stream",
     "text": [
      "                   0\n",
      "intercept  22.250256\n",
      "X1         -0.403689\n",
      "X2          0.854818\n",
      "X3          0.001218\n",
      "X4          0.647333\n",
      "X5         -1.459112\n",
      "X6          2.816710\n",
      "X7         -0.368527\n",
      "X8         -2.591806\n",
      "X9          1.291803\n",
      "X10        -0.968902\n",
      "X11        -1.924035\n",
      "X12         1.153049\n",
      "X13        -3.377869\n"
     ]
    }
   ],
   "source": [
    "# First method to find w : Gradient Descent\n",
    "w = gradient_descent(data_set_train_norm_x,data_set_train_y,learning_rate_ = 0.05, max_iter_= 100, tolerance_ = 0.5e-10)\n",
    "print(w)"
   ]
  },
  {
   "cell_type": "code",
   "execution_count": 116,
   "metadata": {},
   "outputs": [],
   "source": [
    "# Predict y's using w found by gradient descent\n",
    "data_set_train_y_hat = data_set_train_norm_x.dot(w)\n"
   ]
  },
  {
   "cell_type": "code",
   "execution_count": 117,
   "metadata": {},
   "outputs": [
    {
     "data": {
      "image/png": "[encoded data removed]",
      "text/plain": [
       "<Figure size 432x288 with 1 Axes>"
      ]
     },
     "metadata": {
      "needs_background": "light"
     },
     "output_type": "display_data"
    }
   ],
   "source": [
    "# Plot actual vs predicted values\n",
    "fig, ax = plt.subplots()\n",
    "ax.scatter(data_set_train_y, data_set_train_y_hat)\n",
    "ax.plot([data_set_train_y.min(), data_set_train_y.max()], [data_set_train_y.min(), data_set_train_y.max()], 'k--', lw=3)\n",
    "ax.set_xlabel('Actual')\n",
    "ax.set_ylabel('Predicted')\n",
    "plt.show()\n"
   ]
  },
  {
   "cell_type": "code",
   "execution_count": 118,
   "metadata": {},
   "outputs": [
    {
     "name": "stdout",
     "output_type": "stream",
     "text": [
      "[[22.25084746]\n",
      " [-0.57656074]\n",
      " [ 1.07873542]\n",
      " [ 0.44804269]\n",
      " [ 0.58103734]\n",
      " [-1.81806688]\n",
      " [ 2.64565815]\n",
      " [-0.26615876]\n",
      " [-2.86229085]\n",
      " [ 2.46253803]\n",
      " [-2.18280963]\n",
      " [-2.00845572]\n",
      " [ 1.13847823]\n",
      " [-3.4468957 ]]\n"
     ]
    }
   ],
   "source": [
    "# Second Method to find find w : Linear Algebra\n",
    "\n",
    "wMLE = inv(data_set_train_norm_x.T.dot(data_set_train_norm_x)).dot(data_set_train_norm_x.T).dot(data_set_train_y)\n",
    "print(wMLE)"
   ]
  },
  {
   "cell_type": "code",
   "execution_count": 119,
   "metadata": {},
   "outputs": [],
   "source": [
    "# Predict y's using w found by linear algebra\n",
    "data_set_train_y_hat = data_set_train_norm_x.dot(wMLE)"
   ]
  },
  {
   "cell_type": "code",
   "execution_count": 120,
   "metadata": {},
   "outputs": [
    {
     "data": {
      "image/png": "[encoded data removed]",
      "text/plain": [
       "<Figure size 432x288 with 1 Axes>"
      ]
     },
     "metadata": {
      "needs_background": "light"
     },
     "output_type": "display_data"
    }
   ],
   "source": [
    "# Plot actual vs predicted values\n",
    "fig, ax = plt.subplots()\n",
    "ax.scatter(data_set_train_y, data_set_train_y_hat)\n",
    "ax.plot([data_set_train_y.min(), data_set_train_y.max()], [data_set_train_y.min(), data_set_train_y.max()], 'k--', lw=4)\n",
    "ax.set_xlabel('Actual')\n",
    "ax.set_ylabel('Predicted')\n",
    "plt.show()\n"
   ]
  },
  {
   "cell_type": "code",
   "execution_count": 121,
   "metadata": {},
   "outputs": [
    {
     "name": "stdout",
     "output_type": "stream",
     "text": [
      "RMSE of training data set using gradient descent is : [[4.54665868]]\n",
      "RMSE of training data set using linear algebra is : [[4.52029145]]\n"
     ]
    }
   ],
   "source": [
    "# Evaluation\n",
    "\n",
    "# Calculate RMSE\n",
    "# RMSE of training using gradient descent\n",
    "\n",
    "err_sub,rmse_train_gradient = risk_function(data_set_train_norm_x, data_set_train_y,w)\n",
    "print('RMSE of training data set using gradient descent is :',rmse_train_gradient)\n",
    "\n",
    "# RMSE of training using linear algebra\n",
    "err_sub,rmse_train_la = risk_function(data_set_train_norm_x, data_set_train_y,wMLE)\n",
    "print('RMSE of training data set using linear algebra is :',rmse_train_la)\n",
    "\n"
   ]
  },
  {
   "cell_type": "code",
   "execution_count": 122,
   "metadata": {},
   "outputs": [
    {
     "name": "stdout",
     "output_type": "stream",
     "text": [
      "RMSE of test data set using gradient descent is : [[5.15777884]]\n",
      "RMSE of test data set using linear algebra is : [[5.10634318]]\n"
     ]
    }
   ],
   "source": [
    "# Calculate RMSE of test\n",
    "err_sub,rmse_test_gradient = risk_function(data_set_test_norm_x, data_set_test_y,w)\n",
    "print('RMSE of test data set using gradient descent is :',rmse_test_gradient)\n",
    "\n",
    "# RMSE of test using linear algebra\n",
    "err_sub,rmse_test_la = risk_function(data_set_test_norm_x, data_set_test_y,wMLE)\n",
    "print('RMSE of test data set using linear algebra is :', rmse_test_la)\n"
   ]
  }
 ],
 "metadata": {
  "kernelspec": {
   "display_name": "Python 3",
   "language": "python",
   "name": "python3"
  },
  "language_info": {
   "codemirror_mode": {
    "name": "ipython",
    "version": 3
   },
   "file_extension": ".py",
   "mimetype": "text/x-python",
   "name": "python",
   "nbconvert_exporter": "python",
   "pygments_lexer": "ipython3",
   "version": "3.7.1"
  }
 },
 "nbformat": 4,
 "nbformat_minor": 2
}
